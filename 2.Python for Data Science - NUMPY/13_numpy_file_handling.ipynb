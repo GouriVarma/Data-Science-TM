{
  "nbformat": 4,
  "nbformat_minor": 0,
  "metadata": {
    "colab": {
      "provenance": []
    },
    "kernelspec": {
      "name": "python3",
      "display_name": "Python 3"
    },
    "language_info": {
      "name": "python"
    }
  },
  "cells": [
    {
      "cell_type": "code",
      "source": [
        "import numpy as np"
      ],
      "metadata": {
        "id": "u54L6Qff1Ex0"
      },
      "execution_count": 16,
      "outputs": []
    },
    {
      "cell_type": "code",
      "source": [
        "info=np.array([3,4,5,6,3,4,66,7])"
      ],
      "metadata": {
        "id": "pBYtKJz71E0J"
      },
      "execution_count": 17,
      "outputs": []
    },
    {
      "cell_type": "code",
      "source": [
        "info"
      ],
      "metadata": {
        "colab": {
          "base_uri": "https://localhost:8080/"
        },
        "id": "Oqwhhja61E2T",
        "outputId": "a95944d5-9701-48f6-bece-9d8858a0f24f"
      },
      "execution_count": 18,
      "outputs": [
        {
          "output_type": "execute_result",
          "data": {
            "text/plain": [
              "array([ 3,  4,  5,  6,  3,  4, 66,  7])"
            ]
          },
          "metadata": {},
          "execution_count": 18
        }
      ]
    },
    {
      "cell_type": "code",
      "source": [
        "np.save('data_array.npy',info)  #binary format"
      ],
      "metadata": {
        "id": "A_ZNSzDu1TVe"
      },
      "execution_count": 21,
      "outputs": []
    },
    {
      "cell_type": "code",
      "source": [
        "np.load('data_array.npy')"
      ],
      "metadata": {
        "colab": {
          "base_uri": "https://localhost:8080/"
        },
        "id": "g2VJ5X5Z1aPx",
        "outputId": "f34af755-4e54-40ff-da03-9509c97ca094"
      },
      "execution_count": 22,
      "outputs": [
        {
          "output_type": "execute_result",
          "data": {
            "text/plain": [
              "array([ 3,  4,  5,  6,  3,  4, 66,  7])"
            ]
          },
          "metadata": {},
          "execution_count": 22
        }
      ]
    },
    {
      "cell_type": "code",
      "source": [
        "#savetxt\n",
        "data=np.arange(100).reshape(25,4)"
      ],
      "metadata": {
        "id": "BUS5NXsJ1oaN"
      },
      "execution_count": 23,
      "outputs": []
    },
    {
      "cell_type": "code",
      "source": [
        "np.savetxt('data__textfile.txt',data)"
      ],
      "metadata": {
        "id": "jpDD8Qha1xPW"
      },
      "execution_count": 24,
      "outputs": []
    },
    {
      "cell_type": "code",
      "source": [
        "np.genfromtxt('data__textfile.txt')"
      ],
      "metadata": {
        "colab": {
          "base_uri": "https://localhost:8080/"
        },
        "id": "VFnTZPS813J4",
        "outputId": "2624829f-fb09-4d5b-e5b2-35f60a5e0d01"
      },
      "execution_count": 25,
      "outputs": [
        {
          "output_type": "execute_result",
          "data": {
            "text/plain": [
              "array([[ 0.,  1.,  2.,  3.],\n",
              "       [ 4.,  5.,  6.,  7.],\n",
              "       [ 8.,  9., 10., 11.],\n",
              "       [12., 13., 14., 15.],\n",
              "       [16., 17., 18., 19.],\n",
              "       [20., 21., 22., 23.],\n",
              "       [24., 25., 26., 27.],\n",
              "       [28., 29., 30., 31.],\n",
              "       [32., 33., 34., 35.],\n",
              "       [36., 37., 38., 39.],\n",
              "       [40., 41., 42., 43.],\n",
              "       [44., 45., 46., 47.],\n",
              "       [48., 49., 50., 51.],\n",
              "       [52., 53., 54., 55.],\n",
              "       [56., 57., 58., 59.],\n",
              "       [60., 61., 62., 63.],\n",
              "       [64., 65., 66., 67.],\n",
              "       [68., 69., 70., 71.],\n",
              "       [72., 73., 74., 75.],\n",
              "       [76., 77., 78., 79.],\n",
              "       [80., 81., 82., 83.],\n",
              "       [84., 85., 86., 87.],\n",
              "       [88., 89., 90., 91.],\n",
              "       [92., 93., 94., 95.],\n",
              "       [96., 97., 98., 99.]])"
            ]
          },
          "metadata": {},
          "execution_count": 25
        }
      ]
    },
    {
      "cell_type": "code",
      "source": [],
      "metadata": {
        "id": "ybLZGa_L2CGU"
      },
      "execution_count": null,
      "outputs": []
    }
  ]
}