{
  "nbformat": 4,
  "nbformat_minor": 0,
  "metadata": {
    "colab": {
      "provenance": []
    },
    "kernelspec": {
      "name": "python3",
      "display_name": "Python 3"
    },
    "language_info": {
      "name": "python"
    }
  },
  "cells": [
    {
      "cell_type": "markdown",
      "source": [
        "##simple plot"
      ],
      "metadata": {
        "id": "DL8WUKmK6Vzk"
      }
    },
    {
      "cell_type": "code",
      "source": [
        "import matplotlib.pyplot as plt\n",
        "import numpy as np"
      ],
      "metadata": {
        "id": "GYYrhC2h75C4"
      },
      "execution_count": 4,
      "outputs": []
    },
    {
      "cell_type": "code",
      "source": [
        "#simple plot\n",
        "a1=np.arange(5)\n",
        "a2=np.arange(5)"
      ],
      "metadata": {
        "id": "n9yoR9MA8MpT"
      },
      "execution_count": 5,
      "outputs": []
    },
    {
      "cell_type": "code",
      "source": [
        "plt.plot(a1,a2)\n",
        "plt.show()"
      ],
      "metadata": {
        "colab": {
          "base_uri": "https://localhost:8080/",
          "height": 265
        },
        "id": "4HLtyH6B8R7R",
        "outputId": "71e7858d-553a-47d8-c80e-797a7977f08a"
      },
      "execution_count": 6,
      "outputs": [
        {
          "output_type": "display_data",
          "data": {
            "text/plain": [
              "<Figure size 432x288 with 1 Axes>"
            ],
            "image/png": "[encoded data removed]"
          },
          "metadata": {
            "needs_background": "light"
          }
        }
      ]
    },
    {
      "cell_type": "code",
      "source": [
        "a1=np.arange(5)\n",
        "a2=np.arange(5)\n",
        "plt.title('Simple line plot',fontsize=15,color='blue')\n",
        "plt.xlabel('x-axis',fontsize=15)\n",
        "plt.ylabel('y-axis',fontsize=15)\n",
        "plt.plot(a1,a2)\n",
        "plt.show()"
      ],
      "metadata": {
        "colab": {
          "base_uri": "https://localhost:8080/",
          "height": 302
        },
        "id": "SN7UyYfh8WkL",
        "outputId": "032fefa9-d06f-4371-f166-3b14f74a4a1a"
      },
      "execution_count": 8,
      "outputs": [
        {
          "output_type": "display_data",
          "data": {
            "text/plain": [
              "<Figure size 432x288 with 1 Axes>"
            ],
            "image/png": "[encoded data removed]"
          },
          "metadata": {
            "needs_background": "light"
          }
        }
      ]
    },
    {
      "cell_type": "code",
      "source": [
        "import pandas as pd\n",
        "df=pd.read_csv('/content/StudentsPerformance.csv')\n",
        "df.head()"
      ],
      "metadata": {
        "colab": {
          "base_uri": "https://localhost:8080/",
          "height": 206
        },
        "id": "rzty0hkb8qdX",
        "outputId": "87362d9d-e5f3-4209-ca4e-7db8b12cc28a"
      },
      "execution_count": 9,
      "outputs": [
        {
          "output_type": "execute_result",
          "data": {
            "text/plain": [
              "   gender race/ethnicity parental level of education         lunch  \\\n",
              "0  female        group B           bachelor's degree      standard   \n",
              "1  female        group C                some college      standard   \n",
              "2  female        group B             master's degree      standard   \n",
              "3    male        group A          associate's degree  free/reduced   \n",
              "4    male        group C                some college      standard   \n",
              "\n",
              "  test preparation course  math score  reading score  writing score  \n",
              "0                    none          72             72             74  \n",
              "1               completed          69             90             88  \n",
              "2                    none          90             95             93  \n",
              "3                    none          47             57             44  \n",
              "4                    none          76             78             75  "
            ],
            "text/html": [
              "\n",
              "  <div id=\"df-4be639cd-01f4-44b9-af4e-5db8629369cb\">\n",
              "    <div class=\"colab-df-container\">\n",
              "      <div>\n",
              "<style scoped>\n",
              "    .dataframe tbody tr th:only-of-type {\n",
              "        vertical-align: middle;\n",
              "    }\n",
              "\n",
              "    .dataframe tbody tr th {\n",
              "        vertical-align: top;\n",
              "    }\n",
              "\n",
              "    .dataframe thead th {\n",
              "        text-align: right;\n",
              "    }\n",
              "</style>\n",
              "<table border=\"1\" class=\"dataframe\">\n",
              "  <thead>\n",
              "    <tr style=\"text-align: right;\">\n",
              "      <th></th>\n",
              "      <th>gender</th>\n",
              "      <th>race/ethnicity</th>\n",
              "      <th>parental level of education</th>\n",
              "      <th>lunch</th>\n",
              "      <th>test preparation course</th>\n",
              "      <th>math score</th>\n",
              "      <th>reading score</th>\n",
              "      <th>writing score</th>\n",
              "    </tr>\n",
              "  </thead>\n",
              "  <tbody>\n",
              "    <tr>\n",
              "      <th>0</th>\n",
              "      <td>female</td>\n",
              "      <td>group B</td>\n",
              "      <td>bachelor's degree</td>\n",
              "      <td>standard</td>\n",
              "      <td>none</td>\n",
              "      <td>72</td>\n",
              "      <td>72</td>\n",
              "      <td>74</td>\n",
              "    </tr>\n",
              "    <tr>\n",
              "      <th>1</th>\n",
              "      <td>female</td>\n",
              "      <td>group C</td>\n",
              "      <td>some college</td>\n",
              "      <td>standard</td>\n",
              "      <td>completed</td>\n",
              "      <td>69</td>\n",
              "      <td>90</td>\n",
              "      <td>88</td>\n",
              "    </tr>\n",
              "    <tr>\n",
              "      <th>2</th>\n",
              "      <td>female</td>\n",
              "      <td>group B</td>\n",
              "      <td>master's degree</td>\n",
              "      <td>standard</td>\n",
              "      <td>none</td>\n",
              "      <td>90</td>\n",
              "      <td>95</td>\n",
              "      <td>93</td>\n",
              "    </tr>\n",
              "    <tr>\n",
              "      <th>3</th>\n",
              "      <td>male</td>\n",
              "      <td>group A</td>\n",
              "      <td>associate's degree</td>\n",
              "      <td>free/reduced</td>\n",
              "      <td>none</td>\n",
              "      <td>47</td>\n",
              "      <td>57</td>\n",
              "      <td>44</td>\n",
              "    </tr>\n",
              "    <tr>\n",
              "      <th>4</th>\n",
              "      <td>male</td>\n",
              "      <td>group C</td>\n",
              "      <td>some college</td>\n",
              "      <td>standard</td>\n",
              "      <td>none</td>\n",
              "      <td>76</td>\n",
              "      <td>78</td>\n",
              "      <td>75</td>\n",
              "    </tr>\n",
              "  </tbody>\n",
              "</table>\n",
              "</div>\n",
              "      <button class=\"colab-df-convert\" onclick=\"convertToInteractive('df-4be639cd-01f4-44b9-af4e-5db8629369cb')\"\n",
              "              title=\"Convert this dataframe to an interactive table.\"\n",
              "              style=\"display:none;\">\n",
              "        \n",
              "  <svg xmlns=\"http://www.w3.org/2000/svg\" height=\"24px\"viewBox=\"0 0 24 24\"\n",
              "       width=\"24px\">\n",
              "    <path d=\"M0 0h24v24H0V0z\" fill=\"none\"/>\n",
              "    <path d=\"M18.56 5.44l.94 2.06.94-2.06 2.06-.94-2.06-.94-.94-2.06-.94 2.06-2.06.94zm-11 1L8.5 8.5l.94-2.06 2.06-.94-2.06-.94L8.5 2.5l-.94 2.06-2.06.94zm10 10l.94 2.06.94-2.06 2.06-.94-2.06-.94-.94-2.06-.94 2.06-2.06.94z\"/><path d=\"M17.41 7.96l-1.37-1.37c-.4-.4-.92-.59-1.43-.59-.52 0-1.04.2-1.43.59L10.3 9.45l-7.72 7.72c-.78.78-.78 2.05 0 2.83L4 21.41c.39.39.9.59 1.41.59.51 0 1.02-.2 1.41-.59l7.78-7.78 2.81-2.81c.8-.78.8-2.07 0-2.86zM5.41 20L4 18.59l7.72-7.72 1.47 1.35L5.41 20z\"/>\n",
              "  </svg>\n",
              "      </button>\n",
              "      \n",
              "  <style>\n",
              "    .colab-df-container {\n",
              "      display:flex;\n",
              "      flex-wrap:wrap;\n",
              "      gap: 12px;\n",
              "    }\n",
              "\n",
              "    .colab-df-convert {\n",
              "      background-color: #E8F0FE;\n",
              "      border: none;\n",
              "      border-radius: 50%;\n",
              "      cursor: pointer;\n",
              "      display: none;\n",
              "      fill: #1967D2;\n",
              "      height: 32px;\n",
              "      padding: 0 0 0 0;\n",
              "      width: 32px;\n",
              "    }\n",
              "\n",
              "    .colab-df-convert:hover {\n",
              "      background-color: #E2EBFA;\n",
              "      box-shadow: 0px 1px 2px rgba(60, 64, 67, 0.3), 0px 1px 3px 1px rgba(60, 64, 67, 0.15);\n",
              "      fill: #174EA6;\n",
              "    }\n",
              "\n",
              "    [theme=dark] .colab-df-convert {\n",
              "      background-color: #3B4455;\n",
              "      fill: #D2E3FC;\n",
              "    }\n",
              "\n",
              "    [theme=dark] .colab-df-convert:hover {\n",
              "      background-color: #434B5C;\n",
              "      box-shadow: 0px 1px 3px 1px rgba(0, 0, 0, 0.15);\n",
              "      filter: drop-shadow(0px 1px 2px rgba(0, 0, 0, 0.3));\n",
              "      fill: #FFFFFF;\n",
              "    }\n",
              "  </style>\n",
              "\n",
              "      <script>\n",
              "        const buttonEl =\n",
              "          document.querySelector('#df-4be639cd-01f4-44b9-af4e-5db8629369cb button.colab-df-convert');\n",
              "        buttonEl.style.display =\n",
              "          google.colab.kernel.accessAllowed ? 'block' : 'none';\n",
              "\n",
              "        async function convertToInteractive(key) {\n",
              "          const element = document.querySelector('#df-4be639cd-01f4-44b9-af4e-5db8629369cb');\n",
              "          const dataTable =\n",
              "            await google.colab.kernel.invokeFunction('convertToInteractive',\n",
              "                                                     [key], {});\n",
              "          if (!dataTable) return;\n",
              "\n",
              "          const docLinkHtml = 'Like what you see? Visit the ' +\n",
              "            '<a target=\"_blank\" href=https://colab.research.google.com/notebooks/data_table.ipynb>data table notebook</a>'\n",
              "            + ' to learn more about interactive tables.';\n",
              "          element.innerHTML = '';\n",
              "          dataTable['output_type'] = 'display_data';\n",
              "          await google.colab.output.renderOutput(dataTable, element);\n",
              "          const docLink = document.createElement('div');\n",
              "          docLink.innerHTML = docLinkHtml;\n",
              "          element.appendChild(docLink);\n",
              "        }\n",
              "      </script>\n",
              "    </div>\n",
              "  </div>\n",
              "  "
            ]
          },
          "metadata": {},
          "execution_count": 9
        }
      ]
    },
    {
      "cell_type": "code",
      "source": [
        "#math scores for different groups\n",
        "df.groupby('race/ethnicity')['math score'].mean()"
      ],
      "metadata": {
        "colab": {
          "base_uri": "https://localhost:8080/"
        },
        "id": "ZGB0v7_F85gT",
        "outputId": "b6a032b4-d209-480b-c9ef-b7778beaa805"
      },
      "execution_count": 10,
      "outputs": [
        {
          "output_type": "execute_result",
          "data": {
            "text/plain": [
              "race/ethnicity\n",
              "group A    61.629213\n",
              "group B    63.452632\n",
              "group C    64.463950\n",
              "group D    67.362595\n",
              "group E    73.821429\n",
              "Name: math score, dtype: float64"
            ]
          },
          "metadata": {},
          "execution_count": 10
        }
      ]
    },
    {
      "cell_type": "code",
      "source": [
        "for grp,data in  df.groupby('race/ethnicity'):\n",
        "  plt.bar(grp,data['math score'].mean())\n",
        "  plt.xlabel('race/ethnicity')\n",
        "  plt.ylabel('scores for math')\n",
        "  plt.title('math scores')"
      ],
      "metadata": {
        "colab": {
          "base_uri": "https://localhost:8080/",
          "height": 295
        },
        "id": "T0oeGuUe85i-",
        "outputId": "8bf212b9-979e-459c-969a-4f52da62772f"
      },
      "execution_count": 12,
      "outputs": [
        {
          "output_type": "display_data",
          "data": {
            "text/plain": [
              "<Figure size 432x288 with 1 Axes>"
            ],
            "image/png": "[encoded data removed]"
          },
          "metadata": {
            "needs_background": "light"
          }
        }
      ]
    },
    {
      "cell_type": "code",
      "source": [],
      "metadata": {
        "id": "E9DqQrWW9zYC"
      },
      "execution_count": null,
      "outputs": []
    },
    {
      "cell_type": "code",
      "source": [
        "for grp,data in  df.groupby('race/ethnicity'):\n",
        "  plt.bar(grp,data['math score'].mean())\n",
        "  plt.xlabel('race/ethnicity')\n",
        "  plt.ylabel('scores for math')\n",
        "  plt.title('math scores')"
      ],
      "metadata": {
        "colab": {
          "base_uri": "https://localhost:8080/",
          "height": 295
        },
        "id": "72copRT685lY",
        "outputId": "026f9fc0-8218-4c16-fa15-faf362209e54"
      },
      "execution_count": 13,
      "outputs": [
        {
          "output_type": "display_data",
          "data": {
            "text/plain": [
              "<Figure size 432x288 with 1 Axes>"
            ],
            "image/png": "[encoded data removed]"
          },
          "metadata": {
            "needs_background": "light"
          }
        }
      ]
    },
    {
      "cell_type": "code",
      "source": [
        "#grouped graph"
      ],
      "metadata": {
        "id": "FIvN0fAB_nIO"
      },
      "execution_count": null,
      "outputs": []
    },
    {
      "cell_type": "markdown",
      "source": [
        "![image.png](data:image/png;base64,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)"
      ],
      "metadata": {
        "id": "qvD2BxBP_rN4"
      }
    },
    {
      "cell_type": "code",
      "source": [
        "data=df[10:20]\n",
        "width=0.23\n",
        "plt.figure(figsize=(10,10))\n",
        "plt.bar(data.index-width,data['math score'],width=width)\n",
        "plt.bar(data.index,data['reading score'],width=width)\n",
        "plt.bar(data.index+width,data['writing score'],width=width)"
      ],
      "metadata": {
        "colab": {
          "base_uri": "https://localhost:8080/",
          "height": 610
        },
        "id": "VJKjj8Y5_wZp",
        "outputId": "e7a67365-3d84-47b6-95cf-455fa7c885e4"
      },
      "execution_count": 18,
      "outputs": [
        {
          "output_type": "execute_result",
          "data": {
            "text/plain": [
              "<BarContainer object of 10 artists>"
            ]
          },
          "metadata": {},
          "execution_count": 18
        },
        {
          "output_type": "display_data",
          "data": {
            "text/plain": [
              "<Figure size 720x720 with 1 Axes>"
            ],
            "image/png": "[encoded data removed]"
          },
          "metadata": {
            "needs_background": "light"
          }
        }
      ]
    },
    {
      "cell_type": "code",
      "source": [
        "#histograms\n",
        "plt.hist(df['writing score'])\n",
        "plt.show()"
      ],
      "metadata": {
        "colab": {
          "base_uri": "https://localhost:8080/",
          "height": 265
        },
        "id": "q_5JLmstAw1M",
        "outputId": "e8086e7d-59b8-4d87-c951-b643bd5c05cf"
      },
      "execution_count": 19,
      "outputs": [
        {
          "output_type": "display_data",
          "data": {
            "text/plain": [
              "<Figure size 432x288 with 1 Axes>"
            ],
            "image/png": "[encoded data removed]"
          },
          "metadata": {
            "needs_background": "light"
          }
        }
      ]
    },
    {
      "cell_type": "code",
      "source": [],
      "metadata": {
        "id": "TDHpI6s-_12s"
      },
      "execution_count": null,
      "outputs": []
    }
  ]
}