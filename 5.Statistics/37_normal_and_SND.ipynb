{
  "nbformat": 4,
  "nbformat_minor": 0,
  "metadata": {
    "colab": {
      "provenance": []
    },
    "kernelspec": {
      "name": "python3",
      "display_name": "Python 3"
    },
    "language_info": {
      "name": "python"
    }
  },
  "cells": [
    {
      "cell_type": "code",
      "execution_count": 1,
      "metadata": {
        "id": "-1-G4m7LaGi3"
      },
      "outputs": [],
      "source": [
        "import pandas as pd\n",
        "import numpy as np\n",
        "import seaborn as sns"
      ]
    },
    {
      "cell_type": "code",
      "source": [
        "df = pd.read_csv('students.csv')\n",
        "df.head()\n"
      ],
      "metadata": {
        "colab": {
          "base_uri": "https://localhost:8080/",
          "height": 337
        },
        "id": "i_-lP_rebC6z",
        "outputId": "f00a6949-0c73-4d15-82b3-abc367c6ed97"
      },
      "execution_count": 3,
      "outputs": [
        {
          "output_type": "execute_result",
          "data": {
            "text/plain": [
              "   stud.id                 name  gender  age  height  weight    religion  \\\n",
              "1   833917  Gonzales, Christina  Female   19     160    64.8      Muslim   \n",
              "2   898539       Lozano, T'Hani  Female   19     172    73.0       Other   \n",
              "3   379678       Williams, Hanh  Female   22     168    70.6  Protestant   \n",
              "4   807564          Nem, Denzel    Male   19     183    79.7       Other   \n",
              "5   383291      Powell, Heather  Female   21     175    71.4    Catholic   \n",
              "\n",
              "   nc.score semester                   major                       minor  \\\n",
              "1      1.91      1st       Political Science             Social Sciences   \n",
              "2      1.56      2nd         Social Sciences  Mathematics and Statistics   \n",
              "3      1.24      3rd         Social Sciences  Mathematics and Statistics   \n",
              "4      1.37      2nd  Environmental Sciences  Mathematics and Statistics   \n",
              "5      1.46      1st  Environmental Sciences  Mathematics and Statistics   \n",
              "\n",
              "   score1  score2  online.tutorial  graduated  salary  \n",
              "1     NaN     NaN                0          0     NaN  \n",
              "2     NaN     NaN                0          0     NaN  \n",
              "3    45.0    46.0                0          0     NaN  \n",
              "4     NaN     NaN                0          0     NaN  \n",
              "5     NaN     NaN                0          0     NaN  "
            ],
            "text/html": [
              "\n",
              "  <div id=\"df-0a8ed077-bc27-4b22-82e4-b9a2217251aa\">\n",
              "    <div class=\"colab-df-container\">\n",
              "      <div>\n",
              "<style scoped>\n",
              "    .dataframe tbody tr th:only-of-type {\n",
              "        vertical-align: middle;\n",
              "    }\n",
              "\n",
              "    .dataframe tbody tr th {\n",
              "        vertical-align: top;\n",
              "    }\n",
              "\n",
              "    .dataframe thead th {\n",
              "        text-align: right;\n",
              "    }\n",
              "</style>\n",
              "<table border=\"1\" class=\"dataframe\">\n",
              "  <thead>\n",
              "    <tr style=\"text-align: right;\">\n",
              "      <th></th>\n",
              "      <th>stud.id</th>\n",
              "      <th>name</th>\n",
              "      <th>gender</th>\n",
              "      <th>age</th>\n",
              "      <th>height</th>\n",
              "      <th>weight</th>\n",
              "      <th>religion</th>\n",
              "      <th>nc.score</th>\n",
              "      <th>semester</th>\n",
              "      <th>major</th>\n",
              "      <th>minor</th>\n",
              "      <th>score1</th>\n",
              "      <th>score2</th>\n",
              "      <th>online.tutorial</th>\n",
              "      <th>graduated</th>\n",
              "      <th>salary</th>\n",
              "    </tr>\n",
              "  </thead>\n",
              "  <tbody>\n",
              "    <tr>\n",
              "      <th>1</th>\n",
              "      <td>833917</td>\n",
              "      <td>Gonzales, Christina</td>\n",
              "      <td>Female</td>\n",
              "      <td>19</td>\n",
              "      <td>160</td>\n",
              "      <td>64.8</td>\n",
              "      <td>Muslim</td>\n",
              "      <td>1.91</td>\n",
              "      <td>1st</td>\n",
              "      <td>Political Science</td>\n",
              "      <td>Social Sciences</td>\n",
              "      <td>NaN</td>\n",
              "      <td>NaN</td>\n",
              "      <td>0</td>\n",
              "      <td>0</td>\n",
              "      <td>NaN</td>\n",
              "    </tr>\n",
              "    <tr>\n",
              "      <th>2</th>\n",
              "      <td>898539</td>\n",
              "      <td>Lozano, T'Hani</td>\n",
              "      <td>Female</td>\n",
              "      <td>19</td>\n",
              "      <td>172</td>\n",
              "      <td>73.0</td>\n",
              "      <td>Other</td>\n",
              "      <td>1.56</td>\n",
              "      <td>2nd</td>\n",
              "      <td>Social Sciences</td>\n",
              "      <td>Mathematics and Statistics</td>\n",
              "      <td>NaN</td>\n",
              "      <td>NaN</td>\n",
              "      <td>0</td>\n",
              "      <td>0</td>\n",
              "      <td>NaN</td>\n",
              "    </tr>\n",
              "    <tr>\n",
              "      <th>3</th>\n",
              "      <td>379678</td>\n",
              "      <td>Williams, Hanh</td>\n",
              "      <td>Female</td>\n",
              "      <td>22</td>\n",
              "      <td>168</td>\n",
              "      <td>70.6</td>\n",
              "      <td>Protestant</td>\n",
              "      <td>1.24</td>\n",
              "      <td>3rd</td>\n",
              "      <td>Social Sciences</td>\n",
              "      <td>Mathematics and Statistics</td>\n",
              "      <td>45.0</td>\n",
              "      <td>46.0</td>\n",
              "      <td>0</td>\n",
              "      <td>0</td>\n",
              "      <td>NaN</td>\n",
              "    </tr>\n",
              "    <tr>\n",
              "      <th>4</th>\n",
              "      <td>807564</td>\n",
              "      <td>Nem, Denzel</td>\n",
              "      <td>Male</td>\n",
              "      <td>19</td>\n",
              "      <td>183</td>\n",
              "      <td>79.7</td>\n",
              "      <td>Other</td>\n",
              "      <td>1.37</td>\n",
              "      <td>2nd</td>\n",
              "      <td>Environmental Sciences</td>\n",
              "      <td>Mathematics and Statistics</td>\n",
              "      <td>NaN</td>\n",
              "      <td>NaN</td>\n",
              "      <td>0</td>\n",
              "      <td>0</td>\n",
              "      <td>NaN</td>\n",
              "    </tr>\n",
              "    <tr>\n",
              "      <th>5</th>\n",
              "      <td>383291</td>\n",
              "      <td>Powell, Heather</td>\n",
              "      <td>Female</td>\n",
              "      <td>21</td>\n",
              "      <td>175</td>\n",
              "      <td>71.4</td>\n",
              "      <td>Catholic</td>\n",
              "      <td>1.46</td>\n",
              "      <td>1st</td>\n",
              "      <td>Environmental Sciences</td>\n",
              "      <td>Mathematics and Statistics</td>\n",
              "      <td>NaN</td>\n",
              "      <td>NaN</td>\n",
              "      <td>0</td>\n",
              "      <td>0</td>\n",
              "      <td>NaN</td>\n",
              "    </tr>\n",
              "  </tbody>\n",
              "</table>\n",
              "</div>\n",
              "      <button class=\"colab-df-convert\" onclick=\"convertToInteractive('df-0a8ed077-bc27-4b22-82e4-b9a2217251aa')\"\n",
              "              title=\"Convert this dataframe to an interactive table.\"\n",
              "              style=\"display:none;\">\n",
              "        \n",
              "  <svg xmlns=\"http://www.w3.org/2000/svg\" height=\"24px\"viewBox=\"0 0 24 24\"\n",
              "       width=\"24px\">\n",
              "    <path d=\"M0 0h24v24H0V0z\" fill=\"none\"/>\n",
              "    <path d=\"M18.56 5.44l.94 2.06.94-2.06 2.06-.94-2.06-.94-.94-2.06-.94 2.06-2.06.94zm-11 1L8.5 8.5l.94-2.06 2.06-.94-2.06-.94L8.5 2.5l-.94 2.06-2.06.94zm10 10l.94 2.06.94-2.06 2.06-.94-2.06-.94-.94-2.06-.94 2.06-2.06.94z\"/><path d=\"M17.41 7.96l-1.37-1.37c-.4-.4-.92-.59-1.43-.59-.52 0-1.04.2-1.43.59L10.3 9.45l-7.72 7.72c-.78.78-.78 2.05 0 2.83L4 21.41c.39.39.9.59 1.41.59.51 0 1.02-.2 1.41-.59l7.78-7.78 2.81-2.81c.8-.78.8-2.07 0-2.86zM5.41 20L4 18.59l7.72-7.72 1.47 1.35L5.41 20z\"/>\n",
              "  </svg>\n",
              "      </button>\n",
              "      \n",
              "  <style>\n",
              "    .colab-df-container {\n",
              "      display:flex;\n",
              "      flex-wrap:wrap;\n",
              "      gap: 12px;\n",
              "    }\n",
              "\n",
              "    .colab-df-convert {\n",
              "      background-color: #E8F0FE;\n",
              "      border: none;\n",
              "      border-radius: 50%;\n",
              "      cursor: pointer;\n",
              "      display: none;\n",
              "      fill: #1967D2;\n",
              "      height: 32px;\n",
              "      padding: 0 0 0 0;\n",
              "      width: 32px;\n",
              "    }\n",
              "\n",
              "    .colab-df-convert:hover {\n",
              "      background-color: #E2EBFA;\n",
              "      box-shadow: 0px 1px 2px rgba(60, 64, 67, 0.3), 0px 1px 3px 1px rgba(60, 64, 67, 0.15);\n",
              "      fill: #174EA6;\n",
              "    }\n",
              "\n",
              "    [theme=dark] .colab-df-convert {\n",
              "      background-color: #3B4455;\n",
              "      fill: #D2E3FC;\n",
              "    }\n",
              "\n",
              "    [theme=dark] .colab-df-convert:hover {\n",
              "      background-color: #434B5C;\n",
              "      box-shadow: 0px 1px 3px 1px rgba(0, 0, 0, 0.15);\n",
              "      filter: drop-shadow(0px 1px 2px rgba(0, 0, 0, 0.3));\n",
              "      fill: #FFFFFF;\n",
              "    }\n",
              "  </style>\n",
              "\n",
              "      <script>\n",
              "        const buttonEl =\n",
              "          document.querySelector('#df-0a8ed077-bc27-4b22-82e4-b9a2217251aa button.colab-df-convert');\n",
              "        buttonEl.style.display =\n",
              "          google.colab.kernel.accessAllowed ? 'block' : 'none';\n",
              "\n",
              "        async function convertToInteractive(key) {\n",
              "          const element = document.querySelector('#df-0a8ed077-bc27-4b22-82e4-b9a2217251aa');\n",
              "          const dataTable =\n",
              "            await google.colab.kernel.invokeFunction('convertToInteractive',\n",
              "                                                     [key], {});\n",
              "          if (!dataTable) return;\n",
              "\n",
              "          const docLinkHtml = 'Like what you see? Visit the ' +\n",
              "            '<a target=\"_blank\" href=https://colab.research.google.com/notebooks/data_table.ipynb>data table notebook</a>'\n",
              "            + ' to learn more about interactive tables.';\n",
              "          element.innerHTML = '';\n",
              "          dataTable['output_type'] = 'display_data';\n",
              "          await google.colab.output.renderOutput(dataTable, element);\n",
              "          const docLink = document.createElement('div');\n",
              "          docLink.innerHTML = docLinkHtml;\n",
              "          element.appendChild(docLink);\n",
              "        }\n",
              "      </script>\n",
              "    </div>\n",
              "  </div>\n",
              "  "
            ]
          },
          "metadata": {},
          "execution_count": 3
        }
      ]
    },
    {
      "cell_type": "markdown",
      "source": [
        " \n",
        "\n",
        "*   Consider weight of students from the dataset, find its distribution along with its mean and standard deviation, and also find its skewness and kurtosis\n",
        "*   Convert the Normal Distribution into Standard Normal Distribution by calculating Z - scores\n",
        "\n"
      ],
      "metadata": {
        "id": "MXJtwVyQbzJc"
      }
    },
    {
      "cell_type": "code",
      "source": [
        "#extract data\n",
        "wt=df['weight']"
      ],
      "metadata": {
        "id": "0DnwG4AzbWdf"
      },
      "execution_count": 17,
      "outputs": []
    },
    {
      "cell_type": "code",
      "source": [
        "wt.head()"
      ],
      "metadata": {
        "colab": {
          "base_uri": "https://localhost:8080/"
        },
        "id": "nYc1iE4fdT7e",
        "outputId": "a04e629f-b364-43b2-c627-27c3880fadea"
      },
      "execution_count": 18,
      "outputs": [
        {
          "output_type": "execute_result",
          "data": {
            "text/plain": [
              "1    64.8\n",
              "2    73.0\n",
              "3    70.6\n",
              "4    79.7\n",
              "5    71.4\n",
              "Name: weight, dtype: float64"
            ]
          },
          "metadata": {},
          "execution_count": 18
        }
      ]
    },
    {
      "cell_type": "code",
      "source": [
        "#plot\n",
        "sns.kdeplot(wt)"
      ],
      "metadata": {
        "colab": {
          "base_uri": "https://localhost:8080/",
          "height": 466
        },
        "id": "1wB769tndWov",
        "outputId": "702f86a8-a1dc-40eb-96a5-6f109c6c1fa9"
      },
      "execution_count": 19,
      "outputs": [
        {
          "output_type": "execute_result",
          "data": {
            "text/plain": [
              "<Axes: xlabel='weight', ylabel='Density'>"
            ]
          },
          "metadata": {},
          "execution_count": 19
        },
        {
          "output_type": "display_data",
          "data": {
            "text/plain": [
              "<Figure size 640x480 with 1 Axes>"
            ],
            "image/png": "[encoded data removed]"
          },
          "metadata": {}
        }
      ]
    },
    {
      "cell_type": "code",
      "source": [
        "#mean=median\n",
        "wt.mean()"
      ],
      "metadata": {
        "colab": {
          "base_uri": "https://localhost:8080/"
        },
        "id": "MkaLvdE6dafb",
        "outputId": "5dabcc3b-94b5-4335-915c-c08358a3fd18"
      },
      "execution_count": 20,
      "outputs": [
        {
          "output_type": "execute_result",
          "data": {
            "text/plain": [
              "72.99813084112151"
            ]
          },
          "metadata": {},
          "execution_count": 20
        }
      ]
    },
    {
      "cell_type": "code",
      "source": [
        "wt.median()"
      ],
      "metadata": {
        "colab": {
          "base_uri": "https://localhost:8080/"
        },
        "id": "AByERW_Kdh_C",
        "outputId": "06f546af-ea80-4580-eedd-f494e2f5d811"
      },
      "execution_count": 21,
      "outputs": [
        {
          "output_type": "execute_result",
          "data": {
            "text/plain": [
              "71.8"
            ]
          },
          "metadata": {},
          "execution_count": 21
        }
      ]
    },
    {
      "cell_type": "code",
      "source": [
        "#skewness and kurtosis\n",
        "from scipy import stats"
      ],
      "metadata": {
        "id": "RCuNnTXAdjhp"
      },
      "execution_count": 22,
      "outputs": []
    },
    {
      "cell_type": "code",
      "source": [
        "stats.skew(wt)"
      ],
      "metadata": {
        "colab": {
          "base_uri": "https://localhost:8080/"
        },
        "id": "3M-EsEOLdwpH",
        "outputId": "6ab252b7-8273-40c1-a9e9-886a9d740234"
      },
      "execution_count": 23,
      "outputs": [
        {
          "output_type": "execute_result",
          "data": {
            "text/plain": [
              "0.6508854364719628"
            ]
          },
          "metadata": {},
          "execution_count": 23
        }
      ]
    },
    {
      "cell_type": "code",
      "source": [
        "stats.kurtosis(wt)"
      ],
      "metadata": {
        "colab": {
          "base_uri": "https://localhost:8080/"
        },
        "id": "FJfMwsA-dzOn",
        "outputId": "94cfcad1-e7a1-44da-a7b5-b23cd4f6fba3"
      },
      "execution_count": 24,
      "outputs": [
        {
          "output_type": "execute_result",
          "data": {
            "text/plain": [
              "0.2921368367627899"
            ]
          },
          "metadata": {},
          "execution_count": 24
        }
      ]
    },
    {
      "cell_type": "code",
      "source": [
        "wt.std()"
      ],
      "metadata": {
        "colab": {
          "base_uri": "https://localhost:8080/"
        },
        "id": "EfBpiVD1d2ox",
        "outputId": "51177cf5-f18b-4d96-d8cf-a0203b22bef6"
      },
      "execution_count": 25,
      "outputs": [
        {
          "output_type": "execute_result",
          "data": {
            "text/plain": [
              "8.63516168839212"
            ]
          },
          "metadata": {},
          "execution_count": 25
        }
      ]
    },
    {
      "cell_type": "code",
      "source": [
        "#standard normal distributions (z-distribution)\n",
        "zscores=stats.zscore(wt)"
      ],
      "metadata": {
        "id": "bt9Q0hGpd9XK"
      },
      "execution_count": 27,
      "outputs": []
    },
    {
      "cell_type": "code",
      "source": [
        "zscores"
      ],
      "metadata": {
        "colab": {
          "base_uri": "https://localhost:8080/"
        },
        "id": "jTw5GejNeIBe",
        "outputId": "2dc26a14-3f05-4dea-de31-82e92a4a8f62"
      },
      "execution_count": 28,
      "outputs": [
        {
          "output_type": "execute_result",
          "data": {
            "text/plain": [
              "1      -0.949447\n",
              "2       0.000216\n",
              "3      -0.277734\n",
              "4       0.776161\n",
              "5      -0.185084\n",
              "          ...   \n",
              "8235    0.706673\n",
              "8236   -0.046109\n",
              "8237   -0.613590\n",
              "8238    2.965020\n",
              "8239   -0.463034\n",
              "Name: weight, Length: 8239, dtype: float64"
            ]
          },
          "metadata": {},
          "execution_count": 28
        }
      ]
    },
    {
      "cell_type": "code",
      "source": [
        "sns.kdeplot(zscores)"
      ],
      "metadata": {
        "colab": {
          "base_uri": "https://localhost:8080/",
          "height": 466
        },
        "id": "PdrJ9SCceMq0",
        "outputId": "93c66f45-ab71-4ab3-9b2c-37dd66a9f49b"
      },
      "execution_count": 29,
      "outputs": [
        {
          "output_type": "execute_result",
          "data": {
            "text/plain": [
              "<Axes: xlabel='weight', ylabel='Density'>"
            ]
          },
          "metadata": {},
          "execution_count": 29
        },
        {
          "output_type": "display_data",
          "data": {
            "text/plain": [
              "<Figure size 640x480 with 1 Axes>"
            ],
            "image/png": "[encoded data removed]"
          },
          "metadata": {}
        }
      ]
    },
    {
      "cell_type": "code",
      "source": [
        "zscores.mean()"
      ],
      "metadata": {
        "colab": {
          "base_uri": "https://localhost:8080/"
        },
        "id": "J61cjXqoeRNS",
        "outputId": "1f51ac02-d8be-4bce-c077-301314e10d05"
      },
      "execution_count": 30,
      "outputs": [
        {
          "output_type": "execute_result",
          "data": {
            "text/plain": [
              "-1.5062057142918012e-15"
            ]
          },
          "metadata": {},
          "execution_count": 30
        }
      ]
    },
    {
      "cell_type": "code",
      "source": [
        "zscores.std()"
      ],
      "metadata": {
        "colab": {
          "base_uri": "https://localhost:8080/"
        },
        "id": "UCfGW94ieYEj",
        "outputId": "7ca84790-033a-4fe0-eba1-613ea9f3a776"
      },
      "execution_count": 31,
      "outputs": [
        {
          "output_type": "execute_result",
          "data": {
            "text/plain": [
              "1.0000606925014974"
            ]
          },
          "metadata": {},
          "execution_count": 31
        }
      ]
    },
    {
      "cell_type": "code",
      "source": [],
      "metadata": {
        "id": "04HDeXbmebGB"
      },
      "execution_count": null,
      "outputs": []
    }
  ]
}