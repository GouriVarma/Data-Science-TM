{
  "cells": [
    {
      "cell_type": "code",
      "execution_count": 1,
      "metadata": {
        "id": "moIipHcCYJ41"
      },
      "outputs": [],
      "source": [
        "#the sample is 5 \n",
        "#what is the probability that it comes from a distribution where mean is 4 and sd=1"
      ]
    },
    {
      "cell_type": "markdown",
      "source": [
        "norm.pdf( x ) returns the probability density function (pdf) of the standard normal distribution, evaluated at the values in x . "
      ],
      "metadata": {
        "id": "i1WjS2l_vtoz"
      }
    },
    {
      "cell_type": "code",
      "execution_count": 2,
      "metadata": {
        "id": "G5Rh8V7EYJ43"
      },
      "outputs": [],
      "source": [
        "from scipy.stats import norm\n"
      ]
    },
    {
      "cell_type": "code",
      "execution_count": 3,
      "metadata": {
        "id": "Imp6e0hrYJ45",
        "outputId": "920b3d2b-8761-4658-863c-e1a5c5970f3f",
        "colab": {
          "base_uri": "https://localhost:8080/"
        }
      },
      "outputs": [
        {
          "output_type": "execute_result",
          "data": {
            "text/plain": [
              "0.24197072451914337"
            ]
          },
          "metadata": {},
          "execution_count": 3
        }
      ],
      "source": [
        "norm.pdf(5,4,1)"
      ]
    },
    {
      "cell_type": "code",
      "execution_count": 4,
      "metadata": {
        "id": "dfJqTNnGYJ46",
        "colab": {
          "base_uri": "https://localhost:8080/"
        },
        "outputId": "cd56a48f-2b53-4a15-fdc6-c69f2824e40e"
      },
      "outputs": [
        {
          "output_type": "execute_result",
          "data": {
            "text/plain": [
              "0.17603266338214976"
            ]
          },
          "metadata": {},
          "execution_count": 4
        }
      ],
      "source": [
        "#what is the probability that it comes from a distribution where mean is 6 and sd=3\n",
        "norm.pdf(5,6,2)"
      ]
    },
    {
      "cell_type": "code",
      "source": [],
      "metadata": {
        "id": "mUvLnq2cjFY7"
      },
      "execution_count": null,
      "outputs": []
    }
  ],
  "metadata": {
    "kernelspec": {
      "display_name": "Python 3",
      "language": "python",
      "name": "python3"
    },
    "language_info": {
      "codemirror_mode": {
        "name": "ipython",
        "version": 3
      },
      "file_extension": ".py",
      "mimetype": "text/x-python",
      "name": "python",
      "nbconvert_exporter": "python",
      "pygments_lexer": "ipython3",
      "version": "3.8.5"
    },
    "colab": {
      "provenance": []
    }
  },
  "nbformat": 4,
  "nbformat_minor": 0
}