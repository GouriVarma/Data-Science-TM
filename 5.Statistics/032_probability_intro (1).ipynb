{
  "nbformat": 4,
  "nbformat_minor": 0,
  "metadata": {
    "colab": {
      "provenance": []
    },
    "kernelspec": {
      "name": "python3",
      "display_name": "Python 3"
    },
    "language_info": {
      "name": "python"
    }
  },
  "cells": [
    {
      "cell_type": "markdown",
      "source": [
        "##intro to probability"
      ],
      "metadata": {
        "id": "_IpNJkL-bDKw"
      }
    },
    {
      "cell_type": "markdown",
      "source": [
        "1.Calculate the probability of randomly drawing a card of Spade.\n",
        "\n",
        "2.Calculate the probability of randomly drawing a face card.\n",
        "\n",
        "3.Calculate the probability of randomly drawing an ace."
      ],
      "metadata": {
        "id": "CimYJDzsdQpQ"
      }
    },
    {
      "cell_type": "code",
      "source": [
        "#sample space=52 cards\n",
        "sample_space=52"
      ],
      "metadata": {
        "id": "H75r_oyEdli5"
      },
      "execution_count": 16,
      "outputs": []
    },
    {
      "cell_type": "code",
      "source": [
        "spades=13\n",
        "p_sp=round(spades/sample_space,4)"
      ],
      "metadata": {
        "id": "0bbZ8j9VdllP"
      },
      "execution_count": 17,
      "outputs": []
    },
    {
      "cell_type": "code",
      "source": [
        "p_sp"
      ],
      "metadata": {
        "colab": {
          "base_uri": "https://localhost:8080/"
        },
        "id": "i0WQysosdlnp",
        "outputId": "d9156c4b-1f4a-490e-caa2-326ef5a5312e"
      },
      "execution_count": 18,
      "outputs": [
        {
          "output_type": "execute_result",
          "data": {
            "text/plain": [
              "0.25"
            ]
          },
          "metadata": {},
          "execution_count": 18
        }
      ]
    },
    {
      "cell_type": "code",
      "source": [
        "#face card\n",
        "p_face=round(12/sample_space,4)"
      ],
      "metadata": {
        "id": "mCPR7w2ud12N"
      },
      "execution_count": 19,
      "outputs": []
    },
    {
      "cell_type": "code",
      "source": [
        "p_face"
      ],
      "metadata": {
        "colab": {
          "base_uri": "https://localhost:8080/"
        },
        "id": "7CfNRzeld-uA",
        "outputId": "d8c9a951-b694-41b6-901b-6f4033ae7e21"
      },
      "execution_count": 20,
      "outputs": [
        {
          "output_type": "execute_result",
          "data": {
            "text/plain": [
              "0.2308"
            ]
          },
          "metadata": {},
          "execution_count": 20
        }
      ]
    },
    {
      "cell_type": "code",
      "source": [
        "#ace\n",
        "aces=4\n",
        "p_ace=round(aces/sample_space,4)"
      ],
      "metadata": {
        "id": "QHf9D0Zyd_jP"
      },
      "execution_count": 21,
      "outputs": []
    },
    {
      "cell_type": "code",
      "source": [
        "p_ace"
      ],
      "metadata": {
        "colab": {
          "base_uri": "https://localhost:8080/"
        },
        "id": "9V1Gw90ReG3B",
        "outputId": "3ab01830-2014-46d8-9211-9a030bc03459"
      },
      "execution_count": 22,
      "outputs": [
        {
          "output_type": "execute_result",
          "data": {
            "text/plain": [
              "0.0769"
            ]
          },
          "metadata": {},
          "execution_count": 22
        }
      ]
    },
    {
      "cell_type": "code",
      "source": [
        "print(p_sp,p_face,p_ace)"
      ],
      "metadata": {
        "colab": {
          "base_uri": "https://localhost:8080/"
        },
        "id": "U2c7bkfDeHcD",
        "outputId": "ad594329-0de2-442e-db2d-4d044a77f9df"
      },
      "execution_count": 23,
      "outputs": [
        {
          "output_type": "stream",
          "name": "stdout",
          "text": [
            "0.25 0.2308 0.0769\n"
          ]
        }
      ]
    },
    {
      "cell_type": "code",
      "source": [],
      "metadata": {
        "id": "L15Sz_BIeKdm"
      },
      "execution_count": null,
      "outputs": []
    }
  ]
}