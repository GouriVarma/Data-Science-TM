{
  "nbformat": 4,
  "nbformat_minor": 0,
  "metadata": {
    "colab": {
      "provenance": []
    },
    "kernelspec": {
      "name": "python3",
      "display_name": "Python 3"
    },
    "language_info": {
      "name": "python"
    }
  },
  "cells": [
    {
      "cell_type": "markdown",
      "source": [
        "##grouping data"
      ],
      "metadata": {
        "id": "fuITG3LW3aiI"
      }
    },
    {
      "cell_type": "code",
      "execution_count": 2,
      "metadata": {
        "colab": {
          "base_uri": "https://localhost:8080/",
          "height": 206
        },
        "id": "Az2FNrhj3Yrl",
        "outputId": "4d65cda8-8e11-4492-cfd0-518333d8c9d7"
      },
      "outputs": [
        {
          "output_type": "execute_result",
          "data": {
            "text/plain": [
              "   Year_of_prod  Season                                   Episode_Title  \\\n",
              "0          1994       1            The One with the Sonogram at the End   \n",
              "1          1994       1                          The One with the Thumb   \n",
              "2          1994       1              The One with George Stephanopoulos   \n",
              "3          1994       1  The One with the East German Laundry Detergent   \n",
              "4          1994       1                           The One with the Butt   \n",
              "\n",
              "   Duration                                            Summary  \\\n",
              "0        22  Ross finds out his ex-wife is pregnant. Rachel...   \n",
              "1        22  Monica becomes irritated when everyone likes h...   \n",
              "2        22  Joey and Chandler take Ross to a hockey game t...   \n",
              "3        22  Eager to spend time with Rachel, Ross pretends...   \n",
              "4        22  Monica's obsessiveness is put to the test afte...   \n",
              "\n",
              "         Director  Stars  Votes  \n",
              "0   James Burrows    8.1   4888  \n",
              "1   James Burrows    8.2   4605  \n",
              "2   James Burrows    8.1   4468  \n",
              "3   Pamela Fryman    8.5   4438  \n",
              "4  Arlene Sanford    8.1   4274  "
            ],
            "text/html": [
              "\n",
              "  <div id=\"df-6b98b0ce-bc4e-4e1d-ad03-534b7005f7b2\">\n",
              "    <div class=\"colab-df-container\">\n",
              "      <div>\n",
              "<style scoped>\n",
              "    .dataframe tbody tr th:only-of-type {\n",
              "        vertical-align: middle;\n",
              "    }\n",
              "\n",
              "    .dataframe tbody tr th {\n",
              "        vertical-align: top;\n",
              "    }\n",
              "\n",
              "    .dataframe thead th {\n",
              "        text-align: right;\n",
              "    }\n",
              "</style>\n",
              "<table border=\"1\" class=\"dataframe\">\n",
              "  <thead>\n",
              "    <tr style=\"text-align: right;\">\n",
              "      <th></th>\n",
              "      <th>Year_of_prod</th>\n",
              "      <th>Season</th>\n",
              "      <th>Episode_Title</th>\n",
              "      <th>Duration</th>\n",
              "      <th>Summary</th>\n",
              "      <th>Director</th>\n",
              "      <th>Stars</th>\n",
              "      <th>Votes</th>\n",
              "    </tr>\n",
              "  </thead>\n",
              "  <tbody>\n",
              "    <tr>\n",
              "      <th>0</th>\n",
              "      <td>1994</td>\n",
              "      <td>1</td>\n",
              "      <td>The One with the Sonogram at the End</td>\n",
              "      <td>22</td>\n",
              "      <td>Ross finds out his ex-wife is pregnant. Rachel...</td>\n",
              "      <td>James Burrows</td>\n",
              "      <td>8.1</td>\n",
              "      <td>4888</td>\n",
              "    </tr>\n",
              "    <tr>\n",
              "      <th>1</th>\n",
              "      <td>1994</td>\n",
              "      <td>1</td>\n",
              "      <td>The One with the Thumb</td>\n",
              "      <td>22</td>\n",
              "      <td>Monica becomes irritated when everyone likes h...</td>\n",
              "      <td>James Burrows</td>\n",
              "      <td>8.2</td>\n",
              "      <td>4605</td>\n",
              "    </tr>\n",
              "    <tr>\n",
              "      <th>2</th>\n",
              "      <td>1994</td>\n",
              "      <td>1</td>\n",
              "      <td>The One with George Stephanopoulos</td>\n",
              "      <td>22</td>\n",
              "      <td>Joey and Chandler take Ross to a hockey game t...</td>\n",
              "      <td>James Burrows</td>\n",
              "      <td>8.1</td>\n",
              "      <td>4468</td>\n",
              "    </tr>\n",
              "    <tr>\n",
              "      <th>3</th>\n",
              "      <td>1994</td>\n",
              "      <td>1</td>\n",
              "      <td>The One with the East German Laundry Detergent</td>\n",
              "      <td>22</td>\n",
              "      <td>Eager to spend time with Rachel, Ross pretends...</td>\n",
              "      <td>Pamela Fryman</td>\n",
              "      <td>8.5</td>\n",
              "      <td>4438</td>\n",
              "    </tr>\n",
              "    <tr>\n",
              "      <th>4</th>\n",
              "      <td>1994</td>\n",
              "      <td>1</td>\n",
              "      <td>The One with the Butt</td>\n",
              "      <td>22</td>\n",
              "      <td>Monica's obsessiveness is put to the test afte...</td>\n",
              "      <td>Arlene Sanford</td>\n",
              "      <td>8.1</td>\n",
              "      <td>4274</td>\n",
              "    </tr>\n",
              "  </tbody>\n",
              "</table>\n",
              "</div>\n",
              "      <button class=\"colab-df-convert\" onclick=\"convertToInteractive('df-6b98b0ce-bc4e-4e1d-ad03-534b7005f7b2')\"\n",
              "              title=\"Convert this dataframe to an interactive table.\"\n",
              "              style=\"display:none;\">\n",
              "        \n",
              "  <svg xmlns=\"http://www.w3.org/2000/svg\" height=\"24px\"viewBox=\"0 0 24 24\"\n",
              "       width=\"24px\">\n",
              "    <path d=\"M0 0h24v24H0V0z\" fill=\"none\"/>\n",
              "    <path d=\"M18.56 5.44l.94 2.06.94-2.06 2.06-.94-2.06-.94-.94-2.06-.94 2.06-2.06.94zm-11 1L8.5 8.5l.94-2.06 2.06-.94-2.06-.94L8.5 2.5l-.94 2.06-2.06.94zm10 10l.94 2.06.94-2.06 2.06-.94-2.06-.94-.94-2.06-.94 2.06-2.06.94z\"/><path d=\"M17.41 7.96l-1.37-1.37c-.4-.4-.92-.59-1.43-.59-.52 0-1.04.2-1.43.59L10.3 9.45l-7.72 7.72c-.78.78-.78 2.05 0 2.83L4 21.41c.39.39.9.59 1.41.59.51 0 1.02-.2 1.41-.59l7.78-7.78 2.81-2.81c.8-.78.8-2.07 0-2.86zM5.41 20L4 18.59l7.72-7.72 1.47 1.35L5.41 20z\"/>\n",
              "  </svg>\n",
              "      </button>\n",
              "      \n",
              "  <style>\n",
              "    .colab-df-container {\n",
              "      display:flex;\n",
              "      flex-wrap:wrap;\n",
              "      gap: 12px;\n",
              "    }\n",
              "\n",
              "    .colab-df-convert {\n",
              "      background-color: #E8F0FE;\n",
              "      border: none;\n",
              "      border-radius: 50%;\n",
              "      cursor: pointer;\n",
              "      display: none;\n",
              "      fill: #1967D2;\n",
              "      height: 32px;\n",
              "      padding: 0 0 0 0;\n",
              "      width: 32px;\n",
              "    }\n",
              "\n",
              "    .colab-df-convert:hover {\n",
              "      background-color: #E2EBFA;\n",
              "      box-shadow: 0px 1px 2px rgba(60, 64, 67, 0.3), 0px 1px 3px 1px rgba(60, 64, 67, 0.15);\n",
              "      fill: #174EA6;\n",
              "    }\n",
              "\n",
              "    [theme=dark] .colab-df-convert {\n",
              "      background-color: #3B4455;\n",
              "      fill: #D2E3FC;\n",
              "    }\n",
              "\n",
              "    [theme=dark] .colab-df-convert:hover {\n",
              "      background-color: #434B5C;\n",
              "      box-shadow: 0px 1px 3px 1px rgba(0, 0, 0, 0.15);\n",
              "      filter: drop-shadow(0px 1px 2px rgba(0, 0, 0, 0.3));\n",
              "      fill: #FFFFFF;\n",
              "    }\n",
              "  </style>\n",
              "\n",
              "      <script>\n",
              "        const buttonEl =\n",
              "          document.querySelector('#df-6b98b0ce-bc4e-4e1d-ad03-534b7005f7b2 button.colab-df-convert');\n",
              "        buttonEl.style.display =\n",
              "          google.colab.kernel.accessAllowed ? 'block' : 'none';\n",
              "\n",
              "        async function convertToInteractive(key) {\n",
              "          const element = document.querySelector('#df-6b98b0ce-bc4e-4e1d-ad03-534b7005f7b2');\n",
              "          const dataTable =\n",
              "            await google.colab.kernel.invokeFunction('convertToInteractive',\n",
              "                                                     [key], {});\n",
              "          if (!dataTable) return;\n",
              "\n",
              "          const docLinkHtml = 'Like what you see? Visit the ' +\n",
              "            '<a target=\"_blank\" href=https://colab.research.google.com/notebooks/data_table.ipynb>data table notebook</a>'\n",
              "            + ' to learn more about interactive tables.';\n",
              "          element.innerHTML = '';\n",
              "          dataTable['output_type'] = 'display_data';\n",
              "          await google.colab.output.renderOutput(dataTable, element);\n",
              "          const docLink = document.createElement('div');\n",
              "          docLink.innerHTML = docLinkHtml;\n",
              "          element.appendChild(docLink);\n",
              "        }\n",
              "      </script>\n",
              "    </div>\n",
              "  </div>\n",
              "  "
            ]
          },
          "metadata": {},
          "execution_count": 2
        }
      ],
      "source": [
        "import pandas as pd\n",
        "df=pd.read_csv('/content/friends_episodes_v2.csv')\n",
        "df.head()"
      ]
    },
    {
      "cell_type": "code",
      "source": [
        "df.groupby('Director').groups"
      ],
      "metadata": {
        "colab": {
          "base_uri": "https://localhost:8080/"
        },
        "id": "T_RnL8lz34eG",
        "outputId": "bb37ee01-5aa0-4947-9544-28755eebda3e"
      },
      "execution_count": 7,
      "outputs": [
        {
          "output_type": "execute_result",
          "data": {
            "text/plain": [
              "{'Alan Myerson': [11, 13], 'Andrew Tsao': [111], 'Arlene Sanford': [4], 'Ben Weiss': [138, 158, 181, 184, 196, 201, 204, 214, 218, 222], 'Dana De Vally Piazza': [84, 100, 105], 'David Schwimmer': [125, 148, 151, 153, 160, 170, 176, 180, 197, 225], 'David Steinberg': [82], 'Ellen Gittelsohn': [27], 'Gail Mancuso': [19, 26, 28, 47, 48, 53, 54, 75, 76, 89, 91, 108, 114, 121], 'Gary Halvorson': [81, 97, 101, 102, 104, 115, 116, 117, 122, 123, 124, 126, 127, 131, 132, 136, 137, 141, 142, 147, 149, 150, 154, 155, 162, 163, 164, 165, 173, 174, 177, 179, 185, 186, 187, 189, 190, 199, 203, 205, 206, 207, 208, 209, 210, 213, 219, 220, 224, 226, 229, 230, 231, 232], 'James Burrows': [0, 1, 2, 5, 6, 7, 9, 12, 16, 21, 36, 61, 62, 86], 'Joe Regalbuto': [106], 'Kevin Bright': [22, 25, 31, 49, 55, 78, 83, 90, 94, 95, 96, 98, 103, 107, 110, 118, 119, 120, 128, 129, 130, 133, 139, 143, 144, 145, 152, 156, 159, 161, 166, 167, 168, 169, 172, 175, 178, 182, 183, 188, 191, 192, 193, 198, 200, 202, 215, 216, 217, 223, 227, 228, 233, 234], 'Mary Kay Place': [30], 'Michael Lembeck': [14, 15, 23, 24, 34, 35, 37, 38, 39, 40, 41, 42, 43, 44, 45, 46, 67, 87, 88, 109, 134, 135, 140, 146], 'Pamela Fryman': [3, 71], 'Paul Lazarus': [10], 'Peter Bonerz': [8, 17, 18, 29, 52, 68, 74, 79, 80, 85, 92, 93], 'Robby Benson': [20, 58, 59, 60, 64, 70], 'Roger Christiansen': [195, 221], 'Sam Simon': [63], 'Sheldon Epps': [171, 194, 212], 'Shelley Jensen': [69, 72, 73, 77, 99, 112], 'Stephen Prime': [157], 'Steve Zuckerman': [50, 51], 'Terry Hughes': [56, 57, 65, 66, 211], 'Thomas Schlamme': [32, 33], 'Todd Holland': [113]}"
            ]
          },
          "metadata": {},
          "execution_count": 7
        }
      ]
    },
    {
      "cell_type": "code",
      "source": [
        "df.groupby('Director').first()"
      ],
      "metadata": {
        "id": "-zZjau8e4NEm"
      },
      "execution_count": null,
      "outputs": []
    },
    {
      "cell_type": "code",
      "source": [
        "##aggregation\n",
        "df.groupby('Director')['Stars'].mean()"
      ],
      "metadata": {
        "colab": {
          "base_uri": "https://localhost:8080/"
        },
        "id": "0WkY4L1E4aNM",
        "outputId": "a76ba112-7bfd-42c7-f9b6-eff609970aff"
      },
      "execution_count": 9,
      "outputs": [
        {
          "output_type": "execute_result",
          "data": {
            "text/plain": [
              "Director\n",
              "Alan Myerson            8.450000\n",
              "Andrew Tsao             8.600000\n",
              "Arlene Sanford          8.100000\n",
              "Ben Weiss               8.300000\n",
              "Dana De Vally Piazza    8.400000\n",
              "David Schwimmer         8.540000\n",
              "David Steinberg         8.500000\n",
              "Ellen Gittelsohn        8.300000\n",
              "Gail Mancuso            8.357143\n",
              "Gary Halvorson          8.401852\n",
              "James Burrows           8.514286\n",
              "Joe Regalbuto           9.100000\n",
              "Kevin Bright            8.646296\n",
              "Mary Kay Place          8.500000\n",
              "Michael Lembeck         8.520833\n",
              "Pamela Fryman           8.700000\n",
              "Paul Lazarus            8.200000\n",
              "Peter Bonerz            8.325000\n",
              "Robby Benson            8.183333\n",
              "Roger Christiansen      8.200000\n",
              "Sam Simon               8.300000\n",
              "Sheldon Epps            8.466667\n",
              "Shelley Jensen          8.433333\n",
              "Stephen Prime           8.400000\n",
              "Steve Zuckerman         8.100000\n",
              "Terry Hughes            8.220000\n",
              "Thomas Schlamme         8.050000\n",
              "Todd Holland            8.000000\n",
              "Name: Stars, dtype: float64"
            ]
          },
          "metadata": {},
          "execution_count": 9
        }
      ]
    },
    {
      "cell_type": "code",
      "source": [
        "df.groupby(['Director','Season'])['Stars'].mean()"
      ],
      "metadata": {
        "colab": {
          "base_uri": "https://localhost:8080/"
        },
        "id": "UA14TA9n4tbE",
        "outputId": "97ba0ee5-487c-4dc1-bd10-6da970c26599"
      },
      "execution_count": 12,
      "outputs": [
        {
          "output_type": "execute_result",
          "data": {
            "text/plain": [
              "Director         Season\n",
              "Alan Myerson     1         8.45\n",
              "Andrew Tsao      5         8.60\n",
              "Arlene Sanford   1         8.10\n",
              "Ben Weiss        6         8.30\n",
              "                 7         8.60\n",
              "                           ... \n",
              "Steve Zuckerman  3         8.10\n",
              "Terry Hughes     3         8.25\n",
              "                 9         8.10\n",
              "Thomas Schlamme  2         8.05\n",
              "Todd Holland     5         8.00\n",
              "Name: Stars, Length: 76, dtype: float64"
            ]
          },
          "metadata": {},
          "execution_count": 12
        }
      ]
    },
    {
      "cell_type": "code",
      "source": [],
      "metadata": {
        "id": "23HOT5jA44hL"
      },
      "execution_count": null,
      "outputs": []
    }
  ]
}