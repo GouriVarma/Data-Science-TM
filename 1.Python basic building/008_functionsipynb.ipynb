{
  "nbformat": 4,
  "nbformat_minor": 0,
  "metadata": {
    "colab": {
      "provenance": []
    },
    "kernelspec": {
      "name": "python3",
      "display_name": "Python 3"
    },
    "language_info": {
      "name": "python"
    }
  },
  "cells": [
    {
      "cell_type": "markdown",
      "source": [
        "##functions"
      ],
      "metadata": {
        "id": "wT2stsqN9bG-"
      }
    },
    {
      "cell_type": "code",
      "execution_count": null,
      "metadata": {
        "id": "UTkvvB5R8XkD"
      },
      "outputs": [],
      "source": [
        "def function1():\n",
        "  pass"
      ]
    },
    {
      "cell_type": "code",
      "source": [
        "def addition(a,b,c):\n",
        "  return a+b+c\n",
        "  "
      ],
      "metadata": {
        "id": "P20B1kcD9rya"
      },
      "execution_count": null,
      "outputs": []
    },
    {
      "cell_type": "code",
      "source": [
        "addition(34,54,45)"
      ],
      "metadata": {
        "colab": {
          "base_uri": "https://localhost:8080/"
        },
        "id": "O5VBoRJY9zXZ",
        "outputId": "3c4a8c5e-ddaf-4451-8444-deb9abde493a"
      },
      "execution_count": null,
      "outputs": [
        {
          "output_type": "execute_result",
          "data": {
            "text/plain": [
              "133"
            ]
          },
          "metadata": {},
          "execution_count": 5
        }
      ]
    },
    {
      "cell_type": "code",
      "source": [
        "addition(34,54)"
      ],
      "metadata": {
        "colab": {
          "base_uri": "https://localhost:8080/",
          "height": 166
        },
        "id": "Ve3LTBYU91wy",
        "outputId": "9ada35a4-5268-4c3c-9cbd-4a7fa236e8dc"
      },
      "execution_count": null,
      "outputs": [
        {
          "output_type": "error",
          "ename": "TypeError",
          "evalue": "ignored",
          "traceback": [
            "\u001b[0;31m---------------------------------------------------------------------------\u001b[0m",
            "\u001b[0;31mTypeError\u001b[0m                                 Traceback (most recent call last)",
            "\u001b[0;32m<ipython-input-6-c48241fdee49>\u001b[0m in \u001b[0;36m<module>\u001b[0;34m\u001b[0m\n\u001b[0;32m----> 1\u001b[0;31m \u001b[0maddition\u001b[0m\u001b[0;34m(\u001b[0m\u001b[0;36m34\u001b[0m\u001b[0;34m,\u001b[0m\u001b[0;36m54\u001b[0m\u001b[0;34m)\u001b[0m\u001b[0;34m\u001b[0m\u001b[0;34m\u001b[0m\u001b[0m\n\u001b[0m",
            "\u001b[0;31mTypeError\u001b[0m: addition() missing 1 required positional argument: 'c'"
          ]
        }
      ]
    },
    {
      "cell_type": "code",
      "source": [
        "def addition(a,b,c):\n",
        "  return a+b+c\n",
        "  return a+b    #multiple return statements only the first one executes"
      ],
      "metadata": {
        "id": "qC4dpy2Q9_xw"
      },
      "execution_count": null,
      "outputs": []
    },
    {
      "cell_type": "code",
      "source": [
        "addition(34,54,53)"
      ],
      "metadata": {
        "colab": {
          "base_uri": "https://localhost:8080/"
        },
        "id": "71mz3SFc-JWa",
        "outputId": "74a98adf-2862-4d1d-a7c3-92e9fef07dca"
      },
      "execution_count": null,
      "outputs": [
        {
          "output_type": "execute_result",
          "data": {
            "text/plain": [
              "141"
            ]
          },
          "metadata": {},
          "execution_count": 10
        }
      ]
    },
    {
      "cell_type": "code",
      "source": [
        "def multiplication(n1,n2,n3):\n",
        "  \"\"\"thiss function multiplies 3 numbers\"\"\"\n",
        "  print('the multiplcation ',n1*n2*n3)"
      ],
      "metadata": {
        "id": "pE2cGxMQ-MBl"
      },
      "execution_count": null,
      "outputs": []
    },
    {
      "cell_type": "code",
      "source": [
        "multiplication(34,322,34)"
      ],
      "metadata": {
        "colab": {
          "base_uri": "https://localhost:8080/"
        },
        "id": "WbwZ4Z8C-pAs",
        "outputId": "f60320d3-71b7-49d2-ac14-a9c34616297d"
      },
      "execution_count": null,
      "outputs": [
        {
          "output_type": "stream",
          "name": "stdout",
          "text": [
            "the multiplcation  372232\n"
          ]
        }
      ]
    },
    {
      "cell_type": "code",
      "source": [
        "help(C)"
      ],
      "metadata": {
        "colab": {
          "base_uri": "https://localhost:8080/"
        },
        "id": "BQDYFgpK-r--",
        "outputId": "c19f8cd8-f1e5-41ac-f860-24b23aa2e274"
      },
      "execution_count": null,
      "outputs": [
        {
          "output_type": "stream",
          "name": "stdout",
          "text": [
            "Help on function multiplication in module __main__:\n",
            "\n",
            "multiplication(n1, n2, n3)\n",
            "    thiss function multiplies 3 numbers\n",
            "\n"
          ]
        }
      ]
    },
    {
      "cell_type": "code",
      "source": [
        "help(print)"
      ],
      "metadata": {
        "colab": {
          "base_uri": "https://localhost:8080/"
        },
        "id": "_JS3tFib-2tI",
        "outputId": "42031c66-190e-4e60-cd4b-16cd033f9f31"
      },
      "execution_count": null,
      "outputs": [
        {
          "output_type": "stream",
          "name": "stdout",
          "text": [
            "Help on built-in function print in module builtins:\n",
            "\n",
            "print(...)\n",
            "    print(value, ..., sep=' ', end='\\n', file=sys.stdout, flush=False)\n",
            "    \n",
            "    Prints the values to a stream, or to sys.stdout by default.\n",
            "    Optional keyword arguments:\n",
            "    file:  a file-like object (stream); defaults to the current sys.stdout.\n",
            "    sep:   string inserted between values, default a space.\n",
            "    end:   string appended after the last value, default a newline.\n",
            "    flush: whether to forcibly flush the stream.\n",
            "\n"
          ]
        }
      ]
    },
    {
      "cell_type": "code",
      "source": [
        "print.__doc__"
      ],
      "metadata": {
        "colab": {
          "base_uri": "https://localhost:8080/",
          "height": 70
        },
        "id": "YBXt9NPO-5z0",
        "outputId": "07b8905a-efdb-499d-b044-cc875ba8d929"
      },
      "execution_count": null,
      "outputs": [
        {
          "output_type": "execute_result",
          "data": {
            "text/plain": [
              "\"print(value, ..., sep=' ', end='\\\\n', file=sys.stdout, flush=False)\\n\\nPrints the values to a stream, or to sys.stdout by default.\\nOptional keyword arguments:\\nfile:  a file-like object (stream); defaults to the current sys.stdout.\\nsep:   string inserted between values, default a space.\\nend:   string appended after the last value, default a newline.\\nflush: whether to forcibly flush the stream.\""
            ],
            "application/vnd.google.colaboratory.intrinsic+json": {
              "type": "string"
            }
          },
          "metadata": {},
          "execution_count": 15
        }
      ]
    },
    {
      "cell_type": "code",
      "source": [
        "multiplication.__doc__"
      ],
      "metadata": {
        "colab": {
          "base_uri": "https://localhost:8080/",
          "height": 35
        },
        "id": "GU8XTHIV-8_2",
        "outputId": "095807d1-944b-4091-c9ba-55dd7241cd34"
      },
      "execution_count": null,
      "outputs": [
        {
          "output_type": "execute_result",
          "data": {
            "text/plain": [
              "'thiss function multiplies 3 numbers'"
            ],
            "application/vnd.google.colaboratory.intrinsic+json": {
              "type": "string"
            }
          },
          "metadata": {},
          "execution_count": 16
        }
      ]
    },
    {
      "cell_type": "markdown",
      "source": [
        "##arbitary argumenrs"
      ],
      "metadata": {
        "id": "FcKqJups_Fo6"
      }
    },
    {
      "cell_type": "code",
      "source": [
        "def function2(*args):\n",
        "  print(args)"
      ],
      "metadata": {
        "id": "Opm6qsw2_BpI"
      },
      "execution_count": null,
      "outputs": []
    },
    {
      "cell_type": "code",
      "source": [
        "function2('djfh','hbfh')"
      ],
      "metadata": {
        "colab": {
          "base_uri": "https://localhost:8080/"
        },
        "id": "oM8rIa_G_Ym4",
        "outputId": "3c440560-1f92-4bea-ace2-42c63bf460af"
      },
      "execution_count": null,
      "outputs": [
        {
          "output_type": "stream",
          "name": "stdout",
          "text": [
            "('djfh', 'hbfh')\n"
          ]
        }
      ]
    },
    {
      "cell_type": "markdown",
      "source": [
        "##arbitary keyword arguments\n",
        "\n",
        "\n",
        "\n",
        "\n"
      ],
      "metadata": {
        "id": "if6uVdLL_jbY"
      }
    },
    {
      "cell_type": "code",
      "source": [
        "def function3(**kwargs):\n",
        "  print(kwargs)"
      ],
      "metadata": {
        "id": "xhhabU_k_cpj"
      },
      "execution_count": null,
      "outputs": []
    },
    {
      "cell_type": "code",
      "source": [
        "function3(name='vanshika',age=57,roll_no=56)"
      ],
      "metadata": {
        "colab": {
          "base_uri": "https://localhost:8080/"
        },
        "id": "qM1xveuP_wa4",
        "outputId": "fdca0e36-fc74-4e9a-fbaa-39a01be172ed"
      },
      "execution_count": null,
      "outputs": [
        {
          "output_type": "stream",
          "name": "stdout",
          "text": [
            "{'name': 'vanshika', 'age': 57, 'roll_no': 56}\n"
          ]
        }
      ]
    },
    {
      "cell_type": "code",
      "source": [
        "def function4(name,age,roll_no):\n",
        "  print(name, age, roll_no)"
      ],
      "metadata": {
        "id": "-fiqoUOs_4ux"
      },
      "execution_count": null,
      "outputs": []
    },
    {
      "cell_type": "code",
      "source": [
        "function4(name='vanshika',roll_no=45,age=57)"
      ],
      "metadata": {
        "colab": {
          "base_uri": "https://localhost:8080/"
        },
        "id": "uCMx96lGAHZ_",
        "outputId": "d255e739-cbbc-4cca-e5d4-a1d0ac1ac676"
      },
      "execution_count": null,
      "outputs": [
        {
          "output_type": "stream",
          "name": "stdout",
          "text": [
            "vanshika 57 45\n"
          ]
        }
      ]
    },
    {
      "cell_type": "code",
      "source": [],
      "metadata": {
        "id": "dWPABze_AL4z"
      },
      "execution_count": null,
      "outputs": []
    }
  ]
}