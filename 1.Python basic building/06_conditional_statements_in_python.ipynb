{
  "nbformat": 4,
  "nbformat_minor": 0,
  "metadata": {
    "colab": {
      "provenance": []
    },
    "kernelspec": {
      "name": "python3",
      "display_name": "Python 3"
    },
    "language_info": {
      "name": "python"
    }
  },
  "cells": [
    {
      "cell_type": "markdown",
      "source": [
        "##Python Conditional Statements\n",
        "---\n",
        "\n"
      ],
      "metadata": {
        "id": "xsaaZvI7t0Dk"
      }
    },
    {
      "cell_type": "code",
      "source": [
        "num1=23\n",
        "num2=45"
      ],
      "metadata": {
        "id": "65Bunh5t4Wbt"
      },
      "execution_count": 133,
      "outputs": []
    },
    {
      "cell_type": "code",
      "source": [
        "if num1>25:\n",
        "  pass\n",
        "  "
      ],
      "metadata": {
        "id": "DRPK9vlf4Web"
      },
      "execution_count": 131,
      "outputs": []
    },
    {
      "cell_type": "code",
      "source": [
        "if num1>num2:\n",
        "  print(num1 ,'is greater')\n",
        "else:\n",
        "  print(num2, 'is greater')  "
      ],
      "metadata": {
        "colab": {
          "base_uri": "https://localhost:8080/"
        },
        "id": "pOGrq1BJ6DVh",
        "outputId": "98809b9e-f804-495d-cb43-4665c29a9bf0"
      },
      "execution_count": 135,
      "outputs": [
        {
          "output_type": "stream",
          "name": "stdout",
          "text": [
            "45 is greater\n"
          ]
        }
      ]
    },
    {
      "cell_type": "code",
      "source": [
        "color='orange'\n",
        "shape='round'\n",
        "if color=='red' or shape=='round':\n",
        "  print('this could be an apple')\n",
        "elif color=='orange' and shape=='round':\n",
        "  print('orange')  \n",
        "else:\n",
        "  print('it is something else')  "
      ],
      "metadata": {
        "colab": {
          "base_uri": "https://localhost:8080/"
        },
        "id": "9ZTgc0Lb6QE_",
        "outputId": "1ffb008e-2fd5-4910-9282-64e93891c12e"
      },
      "execution_count": 141,
      "outputs": [
        {
          "output_type": "stream",
          "name": "stdout",
          "text": [
            "this could be an apple\n"
          ]
        }
      ]
    },
    {
      "cell_type": "code",
      "source": [
        "#shorthand if\n",
        "if color=='red': print('color is red')"
      ],
      "metadata": {
        "id": "KjdAHj9b6m4J"
      },
      "execution_count": 142,
      "outputs": []
    },
    {
      "cell_type": "code",
      "source": [
        "#shorthand if -else\n",
        "print('color is red') if color=='red' else print('not red')"
      ],
      "metadata": {
        "colab": {
          "base_uri": "https://localhost:8080/"
        },
        "id": "b8ip1XS37CI-",
        "outputId": "a2b96664-4d44-49f3-bb94-dc67d84d7973"
      },
      "execution_count": 143,
      "outputs": [
        {
          "output_type": "stream",
          "name": "stdout",
          "text": [
            "not red\n"
          ]
        }
      ]
    },
    {
      "cell_type": "code",
      "source": [
        "print('color is red') if color=='red' else(print('color is orange ') if color=='orange' else print('not red not orange'))"
      ],
      "metadata": {
        "colab": {
          "base_uri": "https://localhost:8080/"
        },
        "id": "V4seFiHH7OAk",
        "outputId": "55ea37cb-fa46-4b18-c6dd-779d53ded7ac"
      },
      "execution_count": 144,
      "outputs": [
        {
          "output_type": "stream",
          "name": "stdout",
          "text": [
            "color is orange \n"
          ]
        }
      ]
    },
    {
      "cell_type": "code",
      "source": [],
      "metadata": {
        "id": "WDMy15jW7hpM"
      },
      "execution_count": null,
      "outputs": []
    }
  ]
}