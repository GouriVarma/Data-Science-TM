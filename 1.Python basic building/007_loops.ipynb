{
  "nbformat": 4,
  "nbformat_minor": 0,
  "metadata": {
    "colab": {
      "provenance": []
    },
    "kernelspec": {
      "name": "python3",
      "display_name": "Python 3"
    },
    "language_info": {
      "name": "python"
    }
  },
  "cells": [
    {
      "cell_type": "markdown",
      "source": [
        "##Kinds of loops\n",
        "\n",
        "\n",
        "1.  For Loop  - for loop executes a block  for a given number of times. We use it when the number of iterations is known.\n",
        "2.  While Loop - while loop is runs until the given condition becomes false. we use it when the number of iterations is unknown\n"
      ],
      "metadata": {
        "id": "Ep2Sd1oBvBZB"
      }
    },
    {
      "cell_type": "code",
      "source": [
        "#for loop\n",
        "for character in 'techmaghi':\n",
        "  pass"
      ],
      "metadata": {
        "id": "Xcu7RHZVvtJa"
      },
      "execution_count": 50,
      "outputs": []
    },
    {
      "cell_type": "code",
      "source": [
        "for character in 'techmaghi':  #iterable string,list,tuple,dictionary\n",
        " print(character)"
      ],
      "metadata": {
        "colab": {
          "base_uri": "https://localhost:8080/"
        },
        "id": "CI2wGarJv-lY",
        "outputId": "7d9e27cc-e4c4-447b-989b-892ecf79508b"
      },
      "execution_count": 51,
      "outputs": [
        {
          "output_type": "stream",
          "name": "stdout",
          "text": [
            "t\n",
            "e\n",
            "c\n",
            "h\n",
            "m\n",
            "a\n",
            "g\n",
            "h\n",
            "i\n"
          ]
        }
      ]
    },
    {
      "cell_type": "code",
      "source": [
        "for i in range( 9):\n",
        "  print(i)"
      ],
      "metadata": {
        "colab": {
          "base_uri": "https://localhost:8080/"
        },
        "id": "9TYigQo5wCSr",
        "outputId": "1b34d558-6118-42cc-ca75-e86c0749ad5c"
      },
      "execution_count": 53,
      "outputs": [
        {
          "output_type": "stream",
          "name": "stdout",
          "text": [
            "0\n",
            "1\n",
            "2\n",
            "3\n",
            "4\n",
            "5\n",
            "6\n",
            "7\n",
            "8\n"
          ]
        }
      ]
    },
    {
      "cell_type": "code",
      "source": [
        "list(range( 9))"
      ],
      "metadata": {
        "colab": {
          "base_uri": "https://localhost:8080/"
        },
        "id": "JRR9tivBwPYY",
        "outputId": "cbc7cb62-944e-4640-a569-04c46e943de4"
      },
      "execution_count": 54,
      "outputs": [
        {
          "output_type": "execute_result",
          "data": {
            "text/plain": [
              "[0, 1, 2, 3, 4, 5, 6, 7, 8]"
            ]
          },
          "metadata": {},
          "execution_count": 54
        }
      ]
    },
    {
      "cell_type": "code",
      "source": [
        "color=['red','pink','blue','green']\n",
        "for c in color:\n",
        "  print(c,end=\" \")"
      ],
      "metadata": {
        "colab": {
          "base_uri": "https://localhost:8080/"
        },
        "id": "tSCBNBJ2wa5j",
        "outputId": "430ba5d8-28fb-468f-8d56-2eda2fd0aa6c"
      },
      "execution_count": 56,
      "outputs": [
        {
          "output_type": "stream",
          "name": "stdout",
          "text": [
            "red pink blue green "
          ]
        }
      ]
    },
    {
      "cell_type": "code",
      "source": [
        "#break ,continue\n",
        "for c in color:\n",
        "  if c=='blue':\n",
        "    break\n",
        "  else:\n",
        "    print(c)  "
      ],
      "metadata": {
        "colab": {
          "base_uri": "https://localhost:8080/"
        },
        "id": "Rg3kb0IfwoKY",
        "outputId": "b79f66cc-ac1e-41b5-affe-97201685f1af"
      },
      "execution_count": 57,
      "outputs": [
        {
          "output_type": "stream",
          "name": "stdout",
          "text": [
            "red\n",
            "pink\n"
          ]
        }
      ]
    },
    {
      "cell_type": "code",
      "source": [
        "for c in color:\n",
        "  if c=='blue':\n",
        "    continue\n",
        "  else:\n",
        "    print(c)  "
      ],
      "metadata": {
        "colab": {
          "base_uri": "https://localhost:8080/"
        },
        "id": "wnu5ZtzVw5tH",
        "outputId": "fec9cad9-cc6a-47a7-ec70-ea41ff229138"
      },
      "execution_count": 58,
      "outputs": [
        {
          "output_type": "stream",
          "name": "stdout",
          "text": [
            "red\n",
            "pink\n",
            "green\n"
          ]
        }
      ]
    },
    {
      "cell_type": "code",
      "source": [
        "for i in range(1,11,2):\n",
        "  print(5*i)"
      ],
      "metadata": {
        "colab": {
          "base_uri": "https://localhost:8080/"
        },
        "id": "uLanPszsxBWJ",
        "outputId": "33220b5f-f363-4635-8d88-1eb5a5deff9f"
      },
      "execution_count": 61,
      "outputs": [
        {
          "output_type": "stream",
          "name": "stdout",
          "text": [
            "5\n",
            "15\n",
            "25\n",
            "35\n",
            "45\n"
          ]
        }
      ]
    },
    {
      "cell_type": "code",
      "source": [
        "#for -else\n",
        "for i in range(5):\n",
        "  print('hey learners')\n",
        "else:\n",
        "  print('the loop has executed')  "
      ],
      "metadata": {
        "colab": {
          "base_uri": "https://localhost:8080/"
        },
        "id": "AMBn-DohxNe3",
        "outputId": "79fe4c2d-81b9-49ad-ef47-53743aa1350a"
      },
      "execution_count": 62,
      "outputs": [
        {
          "output_type": "stream",
          "name": "stdout",
          "text": [
            "hey learners\n",
            "hey learners\n",
            "hey learners\n",
            "hey learners\n",
            "hey learners\n",
            "the loop has executed\n"
          ]
        }
      ]
    },
    {
      "cell_type": "code",
      "source": [
        "for i in range(5):\n",
        "  print('hey learners')\n",
        "  if i==4:\n",
        "    break\n",
        "else:\n",
        "  print('the loop has executed')  "
      ],
      "metadata": {
        "colab": {
          "base_uri": "https://localhost:8080/"
        },
        "id": "JweFQOrTxenv",
        "outputId": "6fb9d3d3-e589-4419-f63f-f15ef65921c0"
      },
      "execution_count": 63,
      "outputs": [
        {
          "output_type": "stream",
          "name": "stdout",
          "text": [
            "hey learners\n",
            "hey learners\n",
            "hey learners\n",
            "hey learners\n",
            "hey learners\n"
          ]
        }
      ]
    },
    {
      "cell_type": "code",
      "source": [
        "#while\n",
        "number=1\n",
        "while(number<=10):    #infinite loop\n",
        "  print(number*5)"
      ],
      "metadata": {
        "id": "W1TCAuWTxqLE"
      },
      "execution_count": null,
      "outputs": []
    },
    {
      "cell_type": "code",
      "source": [
        "number=1\n",
        "while(number<=10):    #finite loop\n",
        "  print(number*5)\n",
        "  number+=1"
      ],
      "metadata": {
        "colab": {
          "base_uri": "https://localhost:8080/"
        },
        "id": "W3bSSS-nx-te",
        "outputId": "6523e921-611d-4420-e4fc-32b27c139f02"
      },
      "execution_count": 65,
      "outputs": [
        {
          "output_type": "stream",
          "name": "stdout",
          "text": [
            "5\n",
            "10\n",
            "15\n",
            "20\n",
            "25\n",
            "30\n",
            "35\n",
            "40\n",
            "45\n",
            "50\n"
          ]
        }
      ]
    },
    {
      "cell_type": "code",
      "source": [
        "while(True):\n",
        "  print('jnvkjf')"
      ],
      "metadata": {
        "id": "LgmpX8fGx2XH"
      },
      "execution_count": null,
      "outputs": []
    },
    {
      "cell_type": "code",
      "source": [
        "i=1\n",
        "while(i<=6):\n",
        "  print(i)\n",
        "  i+=1\n",
        "else:\n",
        "  print('while loop executed')  "
      ],
      "metadata": {
        "colab": {
          "base_uri": "https://localhost:8080/"
        },
        "id": "xl7ldNQByJXn",
        "outputId": "bfe7de69-c3cc-4cf3-b56d-f66e4cde73e8"
      },
      "execution_count": 67,
      "outputs": [
        {
          "output_type": "stream",
          "name": "stdout",
          "text": [
            "1\n",
            "2\n",
            "3\n",
            "4\n",
            "5\n",
            "6\n",
            "while loop executed\n"
          ]
        }
      ]
    },
    {
      "cell_type": "code",
      "source": [
        "i=1\n",
        "while(i<=6):\n",
        "  print(i)\n",
        "  if i==3:\n",
        "    break\n",
        "  i+=1\n",
        "else:\n",
        "  print('while loop executed')  "
      ],
      "metadata": {
        "colab": {
          "base_uri": "https://localhost:8080/"
        },
        "id": "jRCiQXM4yUVi",
        "outputId": "3e125121-6e59-48a5-a9b4-b5a1eefe9dab"
      },
      "execution_count": 68,
      "outputs": [
        {
          "output_type": "stream",
          "name": "stdout",
          "text": [
            "1\n",
            "2\n",
            "3\n"
          ]
        }
      ]
    },
    {
      "cell_type": "code",
      "source": [],
      "metadata": {
        "id": "vpkBtsq2ya9d"
      },
      "execution_count": null,
      "outputs": []
    }
  ]
}